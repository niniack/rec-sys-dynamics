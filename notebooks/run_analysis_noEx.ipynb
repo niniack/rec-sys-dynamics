{
 "cells": [
  {
   "cell_type": "markdown",
   "id": "twenty-mountain",
   "metadata": {},
   "source": [
    "# Analysing Simulation Runs"
   ]
  },
  {
   "cell_type": "code",
   "execution_count": null,
   "id": "electrical-campus",
   "metadata": {},
   "outputs": [],
   "source": [
    "import sys\n",
    "import pandas as pd\n",
    "sys.path.append(\"/Users/pvs262/Documents/rec-sys-dynamics/code\")\n",
    "from src.analysis.cluster import post_process, cluster\n",
    "\n",
    "def getLatents(folder):\n",
    "    directory = \"../simulation_runs/No_Explore_4/\"+folder\n",
    "    latents = []\n",
    "    for i in range(100):\n",
    "        df = pd.read_pickle(directory+'/L'+str(i)+'pkl.gzip', compression = 'gzip')\n",
    "        latents.append(df)\n",
    "        \n",
    "    return latents\n",
    "\n",
    "def getResults(folder):\n",
    "    directory = \"../simulation_runs/No_Explore_4/\"+folder\n",
    "    results = []\n",
    "    for i in range(100):\n",
    "        df = pd.read_pickle(directory+'/R'+str(i)+'pkl.gzip', compression = 'gzip')\n",
    "        results.append(df)\n",
    "        \n",
    "    return results\n",
    "\n",
    "def recalResults(folder):\n",
    "    latents = getLatents(folder)\n",
    "    results_list = []\n",
    "    for i in range(len(latents)):\n",
    "        cluster_obj = cluster(latents[i],0.3)\n",
    "        results_list.append(cluster_obj.gmm(3, covariance_type='full', df='proba', svd = False))\n",
    "    return results_list\n",
    "\n",
    "def getUI(folder):\n",
    "    directory = \"../simulation_runs/No_Explore_4/\"+folder\n",
    "    UI = []\n",
    "    for i in range(5):\n",
    "        df = pd.read_pickle(directory+'/UI'+str(i)+'pkl.gzip', compression = 'gzip')   \n",
    "        UI.append(df)\n",
    "    return UI\n",
    "\n"
   ]
  },
  {
   "cell_type": "code",
   "execution_count": null,
   "id": "pursuant-bunny",
   "metadata": {},
   "outputs": [],
   "source": [
    "# Store PNGs of cluster percent plots\n",
    "# No Explore\n",
    "folders = ['cosin_AN_0_0_30_100','cosin_BNC_0_0_30_100','cosin_1BCC_0_0_30_100','cosin_1BCMU_0_0_30_100','cosin_1BCLI_0_0_30_100','cosin_2BCC_0_0_30_100','cosin_2BCMU_0_0_30_100','cosin_2BCLI_0_0_30_100','mf_AN_0_0_30_100','mf_BNC_0_0_30_100','mf_1BCC_0_0_30_100','mf_1BCMU_0_0_30_100','mf_1BCLI_0_0_30_100','mf_2BCC_0_0_30_100','mf_2BCMU_0_0_30_100','mf_2BCLI_0_0_30_100', 'item_based_AN_0_0_30_100','item_based_BNC_0_0_30_100','item_based_1BCC_0_0_30_100','item_based_1BCMU_0_0_30_100','item_based_1BCLI_0_0_30_100','item_based_2BCC_0_0_30_100','item_based_2BCMU_0_0_30_100','item_based_2BCLI_0_0_30_100']\n",
    "\n",
    "for a in folders:\n",
    "    latents = getLatents(a)\n",
    "    results = getResults(a)\n",
    "    UI = getUI(a)\n",
    "    run = post_process(latents, results, UI)\n",
    "    run.rename_cluster(1,99)\n",
    "    run.plot_percent(show=False, loc='../results/no_explore_percent/'+a+'.svg')"
   ]
  },
  {
   "cell_type": "markdown",
   "id": "differential-section",
   "metadata": {},
   "source": [
    "### cosin_AN_0_0_30_100"
   ]
  },
  {
   "cell_type": "code",
   "execution_count": null,
   "id": "gentle-stadium",
   "metadata": {},
   "outputs": [],
   "source": [
    "sim = 'cosin_AN_0_0_30_100'\n",
    "latents = getLatents(sim)\n",
    "results = getResults(sim)\n",
    "UI = getUI(sim)\n",
    "cosin_AN_0_0_30_100 = post_process(latents, results, UI)\n",
    "cosin_AN_0_0_30_100.rename_cluster(1,99)\n",
    "cosin_AN_0_0_30_100.plot_percent()"
   ]
  },
  {
   "cell_type": "code",
   "execution_count": null,
   "id": "continental-leone",
   "metadata": {},
   "outputs": [],
   "source": [
    "print('ITERATION 1 CLUSTERING')\n",
    "cosin_AN_0_0_30_100.examine(0,'gmm');\n",
    "print('ITERATION 99 CLUSTERING')\n",
    "cosin_AN_0_0_30_100.examine(99,'gmm');"
   ]
  },
  {
   "cell_type": "markdown",
   "id": "registered-negotiation",
   "metadata": {},
   "source": [
    "### cosin_BNC_0_0_30_100"
   ]
  },
  {
   "cell_type": "code",
   "execution_count": null,
   "id": "studied-science",
   "metadata": {},
   "outputs": [],
   "source": [
    "sim = 'cosin_BNC_0_0_30_100'\n",
    "latents = getLatents(sim)\n",
    "results = getResults(sim)\n",
    "UI = getUI(sim)\n",
    "cosin_BNC_0_0_30_100 = post_process(latents, results, UI)\n",
    "cosin_BNC_0_0_30_100.rename_cluster(1,99)\n",
    "cosin_BNC_0_0_30_100.plot_percent()"
   ]
  },
  {
   "cell_type": "code",
   "execution_count": null,
   "id": "available-barrel",
   "metadata": {},
   "outputs": [],
   "source": [
    "print('ITERATION 1 CLUSTERING')\n",
    "cosin_BNC_0_0_30_100.examine(0,'gmm');\n",
    "print('ITERATION 99 CLUSTERING')\n",
    "cosin_BNC_0_0_30_100.examine(99,'gmm');"
   ]
  },
  {
   "cell_type": "markdown",
   "id": "assisted-crowd",
   "metadata": {},
   "source": [
    "### cosin_1BCC_0_0_30_100"
   ]
  },
  {
   "cell_type": "code",
   "execution_count": null,
   "id": "expressed-mechanism",
   "metadata": {},
   "outputs": [],
   "source": [
    "sim = 'cosin_1BCC_0_0_30_100'\n",
    "latents = getLatents(sim)\n",
    "results = getResults(sim)\n",
    "UI = getUI(sim)\n",
    "cosin_1BCC_0_0_30_100 = post_process(latents, results, UI)\n",
    "cosin_1BCC_0_0_30_100.rename_cluster(1,99)\n",
    "cosin_1BCC_0_0_30_100.plot_percent()"
   ]
  },
  {
   "cell_type": "code",
   "execution_count": null,
   "id": "placed-defeat",
   "metadata": {},
   "outputs": [],
   "source": [
    "print('ITERATION 1 CLUSTERING')\n",
    "cosin_1BCC_0_0_30_100.examine(0,'gmm');\n",
    "print('ITERATION 99 CLUSTERING')\n",
    "cosin_1BCC_0_0_30_100.examine(99,'gmm');"
   ]
  },
  {
   "cell_type": "markdown",
   "id": "duplicate-narrative",
   "metadata": {},
   "source": [
    "### cosin_1BCMU_0_0_30_100"
   ]
  },
  {
   "cell_type": "code",
   "execution_count": null,
   "id": "allied-relaxation",
   "metadata": {},
   "outputs": [],
   "source": [
    "sim = 'cosin_1BCMU_0_0_30_100'\n",
    "latents = getLatents(sim)\n",
    "results = getResults(sim)\n",
    "UI = getUI(sim)\n",
    "cosin_1BCMU_0_0_30_100 = post_process(latents, results, UI)\n",
    "cosin_1BCMU_0_0_30_100.rename_cluster(1,99)\n",
    "cosin_1BCMU_0_0_30_100.plot_percent()"
   ]
  },
  {
   "cell_type": "code",
   "execution_count": null,
   "id": "humanitarian-crown",
   "metadata": {},
   "outputs": [],
   "source": [
    "print('ITERATION 1 CLUSTERING')\n",
    "cosin_1BCMU_0_0_30_100.examine(0,'gmm');\n",
    "print('ITERATION 99 CLUSTERING')\n",
    "cosin_1BCMU_0_0_30_100.examine(99,'gmm');"
   ]
  },
  {
   "cell_type": "markdown",
   "id": "understood-victor",
   "metadata": {},
   "source": [
    "### cosin_1BCLI_0_0_30_100"
   ]
  },
  {
   "cell_type": "code",
   "execution_count": null,
   "id": "precious-malawi",
   "metadata": {},
   "outputs": [],
   "source": [
    "sim = 'cosin_1BCLI_0_0_30_100'\n",
    "latents = getLatents(sim)\n",
    "results = getResults(sim)\n",
    "UI = getUI(sim)\n",
    "cosin_1BCLI_0_0_30_100 = post_process(latents, results, UI)\n",
    "cosin_1BCLI_0_0_30_100.rename_cluster(1,99)\n",
    "cosin_1BCLI_0_0_30_100.plot_percent()"
   ]
  },
  {
   "cell_type": "code",
   "execution_count": null,
   "id": "behind-original",
   "metadata": {},
   "outputs": [],
   "source": [
    "print('ITERATION 1 CLUSTERING')\n",
    "cosin_1BCLI_0_0_30_100.examine(0,'gmm');\n",
    "print('ITERATION 99 CLUSTERING')\n",
    "cosin_1BCLI_0_0_30_100.examine(99,'gmm');"
   ]
  },
  {
   "cell_type": "markdown",
   "id": "decimal-permit",
   "metadata": {},
   "source": [
    "### cosin_2BCC_0_0_30_100"
   ]
  },
  {
   "cell_type": "code",
   "execution_count": null,
   "id": "permanent-johns",
   "metadata": {},
   "outputs": [],
   "source": [
    "sim = 'cosin_2BCC_0_0_30_100'\n",
    "latents = getLatents(sim)\n",
    "results = getResults(sim)\n",
    "UI = getUI(sim)\n",
    "cosin_2BCC_0_0_30_100 = post_process(latents, results, UI)\n",
    "cosin_2BCC_0_0_30_100.rename_cluster(1,99)\n",
    "cosin_2BCC_0_0_30_100.plot_percent()"
   ]
  },
  {
   "cell_type": "code",
   "execution_count": null,
   "id": "affected-graduation",
   "metadata": {},
   "outputs": [],
   "source": [
    "print('ITERATION 1 CLUSTERING')\n",
    "cosin_2BCC_0_0_30_100.examine(0,'gmm');\n",
    "print('ITERATION 99 CLUSTERING')\n",
    "cosin_2BCC_0_0_30_100.examine(99,'gmm');"
   ]
  },
  {
   "cell_type": "markdown",
   "id": "crazy-monitor",
   "metadata": {},
   "source": [
    "### cosin_2BCMU_0_0_30_100"
   ]
  },
  {
   "cell_type": "code",
   "execution_count": null,
   "id": "actual-steps",
   "metadata": {},
   "outputs": [],
   "source": [
    "sim = 'cosin_2BCMU_0_0_30_100'\n",
    "latents = getLatents(sim)\n",
    "results = recalResults(sim)\n",
    "UI = getUI(sim)\n",
    "cosin_2BCMU_0_0_30_100 = post_process(latents, results, UI)\n",
    "cosin_2BCMU_0_0_30_100.rename_cluster(1,99)\n",
    "cosin_2BCMU_0_0_30_100.plot_percent()"
   ]
  },
  {
   "cell_type": "code",
   "execution_count": null,
   "id": "geographic-wilderness",
   "metadata": {},
   "outputs": [],
   "source": [
    "print('ITERATION 1 CLUSTERING')\n",
    "cosin_2BCMU_0_0_30_100.examine(0,'gmm');\n",
    "print('ITERATION 99 CLUSTERING')\n",
    "cosin_2BCMU_0_0_30_100.examine(99,'gmm');"
   ]
  },
  {
   "cell_type": "markdown",
   "id": "fundamental-bargain",
   "metadata": {},
   "source": [
    "### cosin_2BCLI_0_0_30_100"
   ]
  },
  {
   "cell_type": "code",
   "execution_count": null,
   "id": "uniform-designer",
   "metadata": {},
   "outputs": [],
   "source": [
    "sim = 'cosin_2BCLI_0_0_30_100'\n",
    "latents = getLatents(sim)\n",
    "results = recalResults(sim)\n",
    "UI = getUI(sim)\n",
    "cosin_2BCLI_0_0_30_100 = post_process(latents, results, UI)\n",
    "cosin_2BCLI_0_0_30_100.rename_cluster(1,99)\n",
    "cosin_2BCLI_0_0_30_100.plot_percent()"
   ]
  },
  {
   "cell_type": "code",
   "execution_count": null,
   "id": "exact-behavior",
   "metadata": {},
   "outputs": [],
   "source": [
    "print('ITERATION 1 CLUSTERING')\n",
    "cosin_2BCLI_0_0_30_100.examine(0,'gmm');\n",
    "print('ITERATION 99 CLUSTERING')\n",
    "cosin_2BCLI_0_0_30_100.examine(99,'gmm');"
   ]
  },
  {
   "cell_type": "markdown",
   "id": "imperial-norwegian",
   "metadata": {},
   "source": [
    "### mf_AN_0_0_30_100"
   ]
  },
  {
   "cell_type": "code",
   "execution_count": null,
   "id": "southwest-plymouth",
   "metadata": {},
   "outputs": [],
   "source": [
    "sim = 'mf_AN_0_0_30_100'\n",
    "latents = getLatents(sim)\n",
    "results = getResults(sim)\n",
    "UI = getUI(sim)\n",
    "mf_AN_0_0_30_100 = post_process(latents, results, UI)\n",
    "mf_AN_0_0_30_100.rename_cluster(1,99)\n",
    "mf_AN_0_0_30_100.plot_percent()"
   ]
  },
  {
   "cell_type": "code",
   "execution_count": null,
   "id": "crucial-support",
   "metadata": {},
   "outputs": [],
   "source": [
    "print('ITERATION 1 CLUSTERING')\n",
    "mf_AN_0_0_30_100.examine(1,'gmm');\n",
    "print('ITERATION 99 CLUSTERING')\n",
    "mf_AN_0_0_30_100.examine(99,'gmm');"
   ]
  },
  {
   "cell_type": "markdown",
   "id": "musical-insurance",
   "metadata": {},
   "source": [
    "### mf_BNC_0_0_30_100"
   ]
  },
  {
   "cell_type": "code",
   "execution_count": null,
   "id": "metallic-decline",
   "metadata": {},
   "outputs": [],
   "source": [
    "sim = 'mf_BNC_0_0_30_100'\n",
    "latents = getLatents(sim)\n",
    "results = getResults(sim)\n",
    "UI = getUI(sim)\n",
    "mf_BNC_0_0_30_100 = post_process(latents, results, UI)\n",
    "mf_BNC_0_0_30_100.rename_cluster(1,99)\n",
    "mf_BNC_0_0_30_100.plot_percent()"
   ]
  },
  {
   "cell_type": "code",
   "execution_count": null,
   "id": "official-baking",
   "metadata": {},
   "outputs": [],
   "source": [
    "print('ITERATION 1 CLUSTERING')\n",
    "mf_BNC_0_0_30_100.examine(1,'gmm');\n",
    "print('ITERATION 99 CLUSTERING')\n",
    "mf_BNC_0_0_30_100.examine(99,'gmm');"
   ]
  },
  {
   "cell_type": "markdown",
   "id": "quality-kitchen",
   "metadata": {},
   "source": [
    "### mf_1BCC_0_0_30_100"
   ]
  },
  {
   "cell_type": "code",
   "execution_count": null,
   "id": "comprehensive-cradle",
   "metadata": {},
   "outputs": [],
   "source": [
    "sim = 'mf_1BCC_0_0_30_100'\n",
    "latents = getLatents(sim)\n",
    "results = getResults(sim)\n",
    "UI = getUI(sim)\n",
    "mf_1BCC_0_0_30_100 = post_process(latents, results, UI)\n",
    "mf_1BCC_0_0_30_100.rename_cluster(1,99)\n",
    "mf_1BCC_0_0_30_100.plot_percent()"
   ]
  },
  {
   "cell_type": "code",
   "execution_count": null,
   "id": "random-index",
   "metadata": {},
   "outputs": [],
   "source": [
    "print('ITERATION 1 CLUSTERING')\n",
    "mf_1BCC_0_0_30_100.examine(1,'gmm');\n",
    "print('ITERATION 99 CLUSTERING')\n",
    "mf_1BCC_0_0_30_100.examine(99,'gmm');"
   ]
  },
  {
   "cell_type": "markdown",
   "id": "inner-style",
   "metadata": {},
   "source": [
    "### mf_1BCMU_0_0_30_100"
   ]
  },
  {
   "cell_type": "code",
   "execution_count": null,
   "id": "plain-dodge",
   "metadata": {},
   "outputs": [],
   "source": [
    "sim = 'mf_1BCMU_0_0_30_100'\n",
    "latents = getLatents(sim)\n",
    "results = getResults(sim)\n",
    "UI = getUI(sim)\n",
    "mf_1BCMU_0_0_30_100 = post_process(latents, results, UI)\n",
    "mf_1BCMU_0_0_30_100.rename_cluster(1,99)\n",
    "mf_1BCMU_0_0_30_100.plot_percent()"
   ]
  },
  {
   "cell_type": "code",
   "execution_count": null,
   "id": "reported-effort",
   "metadata": {},
   "outputs": [],
   "source": [
    "print('ITERATION 1 CLUSTERING')\n",
    "mf_1BCMU_0_0_30_100.examine(1,'gmm');\n",
    "print('ITERATION 99 CLUSTERING')\n",
    "mf_1BCMU_0_0_30_100.examine(99,'gmm');"
   ]
  },
  {
   "cell_type": "markdown",
   "id": "innovative-standard",
   "metadata": {},
   "source": [
    "### mf_1BCLI_0_0_30_100"
   ]
  },
  {
   "cell_type": "code",
   "execution_count": null,
   "id": "tamil-concrete",
   "metadata": {},
   "outputs": [],
   "source": [
    "sim = 'mf_1BCLI_0_0_30_100'\n",
    "latents = getLatents(sim)\n",
    "results = getResults(sim)\n",
    "UI = getUI(sim)\n",
    "mf_1BCLI_0_0_30_100 = post_process(latents, results, UI)\n",
    "mf_1BCLI_0_0_30_100.rename_cluster(1,99)\n",
    "mf_1BCLI_0_0_30_100.plot_percent()"
   ]
  },
  {
   "cell_type": "code",
   "execution_count": null,
   "id": "exterior-jewel",
   "metadata": {},
   "outputs": [],
   "source": [
    "print('ITERATION 1 CLUSTERING')\n",
    "mf_1BCLI_0_0_30_100.examine(1,'gmm');\n",
    "print('ITERATION 99 CLUSTERING')\n",
    "mf_1BCLI_0_0_30_100.examine(99,'gmm');"
   ]
  },
  {
   "cell_type": "markdown",
   "id": "joint-placement",
   "metadata": {},
   "source": [
    "### mf_2BCC_0_0_30_100"
   ]
  },
  {
   "cell_type": "code",
   "execution_count": null,
   "id": "executive-exhibition",
   "metadata": {},
   "outputs": [],
   "source": [
    "sim = 'mf_2BCC_0_0_30_100'\n",
    "latents = getLatents(sim)\n",
    "results = getResults(sim)\n",
    "UI = getUI(sim)\n",
    "mf_2BCC_0_0_30_100 = post_process(latents, results, UI)\n",
    "mf_2BCC_0_0_30_100.rename_cluster(1,99)\n",
    "mf_2BCC_0_0_30_100.plot_percent()"
   ]
  },
  {
   "cell_type": "code",
   "execution_count": null,
   "id": "polyphonic-administrator",
   "metadata": {},
   "outputs": [],
   "source": [
    "print('ITERATION 1 CLUSTERING')\n",
    "mf_2BCC_0_0_30_100.examine(1,'gmm');\n",
    "print('ITERATION 99 CLUSTERING')\n",
    "mf_2BCC_0_0_30_100.examine(99,'gmm');"
   ]
  },
  {
   "cell_type": "markdown",
   "id": "discrete-planning",
   "metadata": {},
   "source": [
    "### mf_2BCMU_0_0_30_100"
   ]
  },
  {
   "cell_type": "code",
   "execution_count": null,
   "id": "naked-corruption",
   "metadata": {},
   "outputs": [],
   "source": [
    "sim = 'mf_2BCMU_0_0_30_100'\n",
    "latents = getLatents(sim)\n",
    "results = recalResults(sim)\n",
    "UI = getUI(sim)\n",
    "mf_2BCMU_0_0_30_100 = post_process(latents, results, UI)\n",
    "mf_2BCMU_0_0_30_100.rename_cluster(1,99)\n",
    "mf_2BCMU_0_0_30_100.plot_percent()"
   ]
  },
  {
   "cell_type": "code",
   "execution_count": null,
   "id": "thirty-reproduction",
   "metadata": {},
   "outputs": [],
   "source": [
    "print('ITERATION 1 CLUSTERING')\n",
    "mf_2BCMU_0_0_30_100.examine(1,'gmm');\n",
    "print('ITERATION 99 CLUSTERING')\n",
    "mf_2BCMU_0_0_30_100.examine(99,'gmm');"
   ]
  },
  {
   "cell_type": "markdown",
   "id": "suburban-coordination",
   "metadata": {},
   "source": [
    "### mf_2BCLI_0_0_30_100"
   ]
  },
  {
   "cell_type": "code",
   "execution_count": null,
   "id": "waiting-newfoundland",
   "metadata": {},
   "outputs": [],
   "source": [
    "sim = 'mf_2BCLI_0_0_30_100'\n",
    "latents = getLatents(sim)\n",
    "results = recalResults(sim)\n",
    "UI = getUI(sim)\n",
    "mf_2BCLI_0_0_30_100 = post_process(latents, results, UI)\n",
    "mf_2BCLI_0_0_30_100.rename_cluster(1,99)\n",
    "mf_2BCLI_0_0_30_100.plot_percent()"
   ]
  },
  {
   "cell_type": "code",
   "execution_count": null,
   "id": "hybrid-taste",
   "metadata": {},
   "outputs": [],
   "source": [
    "print('ITERATION 1 CLUSTERING')\n",
    "mf_2BCLI_0_0_30_100.examine(1,'gmm');\n",
    "print('ITERATION 99 CLUSTERING')\n",
    "mf_2BCLI_0_0_30_100.examine(99,'gmm');"
   ]
  }
 ],
 "metadata": {
  "kernelspec": {
   "display_name": "Python 3",
   "language": "python",
   "name": "python3"
  },
  "language_info": {
   "codemirror_mode": {
    "name": "ipython",
    "version": 3
   },
   "file_extension": ".py",
   "mimetype": "text/x-python",
   "name": "python",
   "nbconvert_exporter": "python",
   "pygments_lexer": "ipython3",
   "version": "3.8.2"
  }
 },
 "nbformat": 4,
 "nbformat_minor": 5
}
