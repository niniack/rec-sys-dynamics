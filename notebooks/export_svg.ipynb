{
 "cells": [
  {
   "cell_type": "markdown",
   "id": "bright-remainder",
   "metadata": {},
   "source": [
    "# READ THIS\n",
    "It is important that you change the directory depending on whether you are saving Explore runs or No Explore runs\n",
    "\n",
    "### In Functions:\n",
    "For Explore,    directory = \"simulation_runs/Explore_Threshold_2/\"+folder\n",
    "For No Explore, directory = \"simulation_runs/No_Explore_4/\"+folder\n",
    "\n",
    "### For Folders:\n",
    "When **finding axis min-max ranges**, change between folders_e (for explore) and folder_ne (for no explore).\n",
    "When **exporting cluster_population svgs**, change which set of folders is commented and change the filepath name.\n"
   ]
  },
  {
   "cell_type": "code",
   "execution_count": null,
   "id": "advised-emperor",
   "metadata": {},
   "outputs": [],
   "source": [
    "import sys\n",
    "import pandas as pd\n",
    "sys.path.append(\"/Users/pvs262/Documents/rec-sys-dynamics/code\")\n",
    "from src.analysis.cluster import post_process, cluster\n",
    "\n",
    "dr = \"../simulation_runs/Explore_Threshold_2/\"\n",
    "#dr = \"../simulation_runs/No_Explore_4/\"\n",
    "\n",
    "def getLatents(folder):\n",
    "    directory = dr+folder\n",
    "    latents = []\n",
    "    for i in range(100):\n",
    "        df = pd.read_pickle(directory+'/L'+str(i)+'pkl.gzip', compression = 'gzip')\n",
    "        latents.append(df)\n",
    "        \n",
    "    return latents\n",
    "\n",
    "def getResults(folder):\n",
    "    directory = dr+folder\n",
    "    results = []\n",
    "    for i in range(100):\n",
    "        df = pd.read_pickle(directory+'/R'+str(i)+'pkl.gzip', compression = 'gzip')\n",
    "        results.append(df)\n",
    "        \n",
    "    return results\n",
    "\n",
    "def recalResults(folder):\n",
    "    latents = getLatents(folder)\n",
    "    results_list = []\n",
    "    for i in range(len(latents)):\n",
    "        cluster_obj = cluster(latents[i],0.3)\n",
    "        results_list.append(cluster_obj.gmm(3, covariance_type='full', df='proba', svd = False))\n",
    "    return results_list\n",
    "\n",
    "def getUI(folder):\n",
    "    directory = dr+folder\n",
    "    UI = []\n",
    "    for i in range(5):\n",
    "        df = pd.read_pickle(directory+'/UI'+str(i)+'pkl.gzip', compression = 'gzip')   \n",
    "        UI.append(df)\n",
    "    return UI\n",
    "\n",
    "import pandas as pd\n",
    "import matplotlib.pyplot as plt"
   ]
  },
  {
   "cell_type": "raw",
   "id": "ignored-walker",
   "metadata": {},
   "source": [
    "# FINDING THE AXIS MAX AND MIN FOR ALL RUNS\n",
    "folders_e = ['cosin_AN_10_0_30_100','cosin_BNC_10_0_30_100','cosin_1BCC_10_0_30_100','cosin_1BCMU_10_0_30_100','cosin_1BCLI_10_0_30_100','cosin_2BCC_10_0_30_100','cosin_2BCMU_10_0_30_100','cosin_2BCLI_10_0_30_100','mf_AN_10_0_30_100','mf_BNC_10_0_30_100','mf_1BCC_10_0_30_100','mf_1BCMU_10_0_30_100','mf_1BCLI_10_0_30_100','mf_2BCC_10_0_30_100','mf_2BCMU_10_0_30_100','mf_2BCLI_10_0_30_100','item_based_AN_10_0_30_100','item_based_BNC_10_0_30_100','item_based_1BCC_10_0_30_100','item_based_1BCMU_10_0_30_100','item_based_1BCLI_10_0_30_100','item_based_2BCC_10_0_30_100','item_based_2BCMU_10_0_30_100','item_based_2BCLI_10_0_30_100']\n",
    "folders_ne = ['cosin_AN_0_0_30_100','cosin_BNC_0_0_30_100','cosin_1BCC_0_0_30_100','cosin_1BCMU_0_0_30_100','cosin_1BCLI_0_0_30_100','cosin_2BCC_0_0_30_100','cosin_2BCMU_0_0_30_100','cosin_2BCLI_0_0_30_100','mf_AN_0_0_30_100','mf_BNC_0_0_30_100','mf_1BCC_0_0_30_100','mf_1BCMU_0_0_30_100','mf_1BCLI_0_0_30_100','mf_2BCC_0_0_30_100','mf_2BCMU_0_0_30_100','mf_2BCLI_0_0_30_100', 'item_based_AN_0_0_30_100','item_based_BNC_0_0_30_100','item_based_1BCC_0_0_30_100','item_based_1BCMU_0_0_30_100','item_based_1BCLI_0_0_30_100','item_based_2BCC_0_0_30_100','item_based_2BCMU_0_0_30_100','item_based_2BCLI_0_0_30_100']\n",
    "\n",
    "x_max = []\n",
    "x_min = []\n",
    "y_max = []\n",
    "y_min = []\n",
    "z_max = []\n",
    "z_min = []\n",
    "\n",
    "for run in folders_ne:\n",
    "    df = pd.read_csv('datasets/syn_adjusted/No_Explore_4/'+run+'.csv')\n",
    "    x_max.append(df['0'].max())\n",
    "    x_min.append(df['0'].min())\n",
    "    y_max.append(df['1'].max())\n",
    "    y_min.append(df['1'].min())\n",
    "    z_max.append(df['2'].max())\n",
    "    z_min.append(df['2'].max())\n",
    "\n",
    "for run in folders_e:\n",
    "    df = pd.read_csv('datasets/syn_adjusted/Explore_Threshold_2/'+run+'.csv')\n",
    "    x_max.append(df['0'].max())\n",
    "    x_min.append(df['0'].min())\n",
    "    y_max.append(df['1'].max())\n",
    "    y_min.append(df['1'].min())\n",
    "    z_max.append(df['2'].max())\n",
    "    z_min.append(df['2'].min())\n",
    "\n",
    "x_max = max(x_max)\n",
    "x_min = min(x_min)\n",
    "y_max = max(y_max)\n",
    "y_min = min(y_min)\n",
    "z_max = max(z_max)\n",
    "z_min = min(z_min)\n",
    "\n",
    "print(\"x_lim = [\" + str(math.ceil(x_max)) + \", \" + str(math.floor(x_min)))\n",
    "print(\"y_lim = [\" + str(math.ceil(y_max)) + \", \" + str(math.floor(y_min)))\n",
    "print(\"z_lim = [\" + str(math.ceil(z_max)) + \", \" + str(math.floor(z_min)))\n",
    "\n",
    "# ADD CURRENT MAX MIN FOR EASY COMPARISON: "
   ]
  },
  {
   "cell_type": "raw",
   "id": "rental-fraud",
   "metadata": {},
   "source": [
    "### EXPORT THE DECAY IN NUMBER OF LATENT FEATURES REQUIRED\n",
    "\n",
    "# PLOT ALL LINES ON ONE PLOT: 1BCC and 2BCC for each RecSys\n",
    "\n",
    "a = \"2BCC_10_0_30_100\"\n",
    "ib_latents = getLatents(\"item_based_\"+a)\n",
    "mf_latents = getLatents(\"mf_\"+a)\n",
    "cs_latents = getLatents(\"cosin_\"+a)\n",
    "\n",
    "x = range(len(mf_latents))\n",
    "ib_y = []\n",
    "mf_y = []\n",
    "cs_y = []\n",
    "\n",
    "for i in range(len(latents)):\n",
    "    ib_y.append(len(ib_latents[i].columns))\n",
    "    mf_y.append(len(mf_latents[i].columns))\n",
    "    cs_y.append(len(cs_latents[i].columns))\n",
    "    \n",
    "plt.plot(x,ib_y, ':', label = \"Item Based\")\n",
    "plt.plot(x,mf_y,'--', label = \"Matrix Factorisation\")\n",
    "plt.plot(x,cs_y, label = \"Cosine Similarity\")\n",
    "plt.xlabel(\"Iteration\")\n",
    "# Y limits can be changed\n",
    "plt.ylim(30,98)\n",
    "plt.ylabel(\"Number of Latent Features\")\n",
    "plt.legend()\n",
    "plt.savefig(a+\"_latents.svg\", bbox_inches='tight', pad_inches=0)"
   ]
  },
  {
   "cell_type": "raw",
   "id": "special-bradford",
   "metadata": {},
   "source": [
    "### EXPORT SVGS OF CLUSTER POPULATION PERCENT \n",
    "\n",
    "# EXPLORE\n",
    "#folders = ['cosin_AN_10_0_30_100','cosin_BNC_10_0_30_100','cosin_1BCC_10_0_30_100','cosin_1BCMU_10_0_30_100','cosin_1BCLI_10_0_30_100','cosin_2BCC_10_0_30_100','cosin_2BCMU_10_0_30_100','cosin_2BCLI_10_0_30_100','mf_AN_10_0_30_100','mf_BNC_10_0_30_100','mf_1BCC_10_0_30_100','mf_1BCMU_10_0_30_100','mf_1BCLI_10_0_30_100','mf_2BCC_10_0_30_100','mf_2BCMU_10_0_30_100','mf_2BCLI_10_0_30_100','item_based_AN_10_0_30_100','item_based_BNC_10_0_30_100','item_based_1BCC_10_0_30_100','item_based_1BCMU_10_0_30_100','item_based_1BCLI_10_0_30_100','item_based_2BCC_10_0_30_100','item_based_2BCMU_10_0_30_100','item_based_2BCLI_10_0_30_100']\n",
    "\n",
    "# NO EXPLORE\n",
    "folders = ['cosin_AN_0_0_30_100','cosin_BNC_0_0_30_100','cosin_1BCC_0_0_30_100','cosin_1BCMU_0_0_30_100','cosin_1BCLI_0_0_30_100','cosin_2BCC_0_0_30_100','cosin_2BCMU_0_0_30_100','cosin_2BCLI_0_0_30_100','mf_AN_0_0_30_100','mf_BNC_0_0_30_100','mf_1BCC_0_0_30_100','mf_1BCMU_0_0_30_100','mf_1BCLI_0_0_30_100','mf_2BCC_0_0_30_100','mf_2BCMU_0_0_30_100','mf_2BCLI_0_0_30_100','item_based_AN_0_0_30_100','item_based_BNC_0_0_30_100','item_based_1BCC_0_0_30_100','item_based_1BCMU_0_0_30_100','item_based_1BCLI_0_0_30_100','item_based_2BCC_0_0_30_100','item_based_2BCMU_0_0_30_100','item_based_2BCLI_0_0_30_100']\n",
    "\n",
    "for a in folders:\n",
    "    latents = getLatents(a)\n",
    "    results = getResults(a)\n",
    "    UI = getUI(a)\n",
    "    run = post_process(latents, results, UI);\n",
    "    run.rename_cluster(1,99);\n",
    "    run.plot_percent()\n",
    "    print(run.cluster_populations())\n",
    "    run.plot_percent(show=False, loc='results/no_explore_percent/'+a+'.svg')\n",
    "    #run.plot_percent(show=False, loc='results/explore_percent/'+a+'.svg')"
   ]
  },
  {
   "cell_type": "raw",
   "id": "monetary-berry",
   "metadata": {},
   "source": [
    "### EXPORT SVGS OF 3D SCATTER PLOTS FROM STANDARD ORIENTATION AT ITERATION 99 \n",
    "\n",
    "# EXPLORE\n",
    "#folders = ['cosin_AN_10_0_30_100','cosin_BNC_10_0_30_100','cosin_1BCC_10_0_30_100','cosin_1BCMU_10_0_30_100','cosin_1BCLI_10_0_30_100','cosin_2BCC_10_0_30_100','cosin_2BCMU_10_0_30_100','cosin_2BCLI_10_0_30_100','mf_AN_10_0_30_100','mf_BNC_10_0_30_100','mf_1BCC_10_0_30_100','mf_1BCMU_10_0_30_100','mf_1BCLI_10_0_30_100','mf_2BCC_10_0_30_100','mf_2BCMU_10_0_30_100','mf_2BCLI_10_0_30_100','item_based_AN_10_0_30_100','item_based_BNC_10_0_30_100','item_based_1BCC_10_0_30_100','item_based_1BCMU_10_0_30_100','item_based_1BCLI_10_0_30_100','item_based_2BCC_10_0_30_100','item_based_2BCMU_10_0_30_100','item_based_2BCLI_10_0_30_100']\n",
    "\n",
    "# NO EXPLORE\n",
    "folders = ['cosin_AN_0_0_30_100','cosin_BNC_0_0_30_100','cosin_1BCC_0_0_30_100','cosin_1BCMU_0_0_30_100','cosin_1BCLI_0_0_30_100','cosin_2BCC_0_0_30_100','cosin_2BCMU_0_0_30_100','cosin_2BCLI_0_0_30_100','mf_AN_0_0_30_100','mf_BNC_0_0_30_100','mf_1BCC_0_0_30_100','mf_1BCMU_0_0_30_100','mf_1BCLI_0_0_30_100','mf_2BCC_0_0_30_100','mf_2BCMU_0_0_30_100','mf_2BCLI_0_0_30_100','item_based_AN_0_0_30_100','item_based_BNC_0_0_30_100','item_based_1BCC_0_0_30_100','item_based_1BCMU_0_0_30_100','item_based_1BCLI_0_0_30_100','item_based_2BCC_0_0_30_100','item_based_2BCMU_0_0_30_100','item_based_2BCLI_0_0_30_100']\n",
    "\n",
    "for a in folders:\n",
    "    latents = getLatents(a)\n",
    "    results = getResults(a)\n",
    "    UI = getUI(a)\n",
    "    run = post_process(latents, results, UI);\n",
    "    run.rename_cluster(1,99);\n",
    "    #export standard view svg of the last iteration \n",
    "    run.save_svg(99,'gmm',(\"../results/static/no_explore/\"+a))\n"
   ]
  },
  {
   "cell_type": "raw",
   "id": "ahead-brush",
   "metadata": {},
   "source": [
    "### EXPORT SVGS OF 3D SCATTER PLOTS FROM STANDARD ORIENTATION AT ITERATION 0\n",
    "\n",
    "# EXPLORE (Any run can be taken as they all have the same starting point)\n",
    "folders = ['cosin_AN_0_0_30_100','cosin_BNC_0_0_30_100','cosin_1BCC_0_0_30_100','cosin_1BCMU_0_0_30_100','cosin_1BCLI_0_0_30_100','cosin_2BCC_0_0_30_100','cosin_2BCMU_0_0_30_100','cosin_2BCLI_0_0_30_100']\n",
    "\n",
    "for a in folders:\n",
    "    latents = getLatents(a)\n",
    "    results = getResults(a)\n",
    "    UI = getUI(a)\n",
    "    run = post_process(latents, results, UI);\n",
    "    run.rename_cluster(1,99);\n",
    "    #export standard view svg of the last iteration \n",
    "    run.save_svg(0,'gmm',(\"../results/static/initial/\"+a))\n",
    "\n",
    "    "
   ]
  },
  {
   "cell_type": "markdown",
   "id": "reduced-civilization",
   "metadata": {},
   "source": [
    "### EXPORT SVGS OF 3D SCATTER PLOTS FROM CUSTOM ORIENTATION AND ITERATION\n",
    "\n",
    "To do this, \n",
    "1. load and display the run and iteration you want to compare\n",
    "2. adjust the view in the displayed figure widget\n",
    "3. save the camera_eye and camera_center position and use them to save_svgs of the runs you want to compare."
   ]
  },
  {
   "cell_type": "code",
   "execution_count": null,
   "id": "injured-impossible",
   "metadata": {},
   "outputs": [],
   "source": [
    "# EXPLORE RUNS\n",
    "#'cosin_AN_10_0_30_100','cosin_BNC_10_0_30_100','cosin_1BCC_10_0_30_100','cosin_1BCMU_10_0_30_100','cosin_1BCLI_10_0_30_100','cosin_2BCC_10_0_30_100','cosin_2BCMU_10_0_30_100','cosin_2BCLI_10_0_30_100'\n",
    "#'mf_AN_10_0_30_100','mf_BNC_10_0_30_100','mf_1BCC_10_0_30_100','mf_1BCMU_10_0_30_100','mf_1BCLI_10_0_30_100','mf_2BCC_10_0_30_100','mf_2BCMU_10_0_30_100','mf_2BCLI_10_0_30_100'\n",
    "#'item_based_AN_10_0_30_100','item_based_BNC_10_0_30_100','item_based_1BCC_10_0_30_100','item_based_1BCMU_10_0_30_100','item_based_1BCLI_10_0_30_100','item_based_2BCC_10_0_30_100','item_based_2BCMU_10_0_30_100','item_based_2BCLI_10_0_30_100']\n",
    "\n",
    "# NO EXPLORE\n",
    "#'cosin_AN_0_0_30_100','cosin_BNC_0_0_30_100','cosin_1BCC_0_0_30_100','cosin_1BCMU_0_0_30_100','cosin_1BCLI_0_0_30_100','cosin_2BCC_0_0_30_100','cosin_2BCMU_0_0_30_100','cosin_2BCLI_0_0_30_100'\n",
    "#'mf_AN_0_0_30_100','mf_BNC_0_0_30_100','mf_1BCC_0_0_30_100','mf_1BCMU_0_0_30_100','mf_1BCLI_0_0_30_100','mf_2BCC_0_0_30_100','mf_2BCMU_0_0_30_100','mf_2BCLI_0_0_30_100'\n",
    "#'item_based_AN_0_0_30_100','item_based_BNC_0_0_30_100','item_based_1BCC_0_0_30_100','item_based_1BCMU_0_0_30_100','item_based_1BCLI_0_0_30_100','item_based_2BCC_0_0_30_100','item_based_2BCMU_0_0_30_100','item_based_2BCLI_0_0_30_100']\n",
    "\n",
    "a = \"cosin_2BCLI_10_0_30_100\"\n",
    "\n",
    "latents = getLatents(a)\n",
    "results = getResults(a)\n",
    "UI = getUI(a)\n",
    "run = post_process(latents, results, UI);\n",
    "run.rename_cluster(1,99);\n",
    "fig = run.scene_camera(99,'gmm', show_cluster=True)"
   ]
  },
  {
   "cell_type": "markdown",
   "id": "julian-quick",
   "metadata": {},
   "source": [
    "### Adjust the camera angle view in the FigureWidget below"
   ]
  },
  {
   "cell_type": "code",
   "execution_count": null,
   "id": "corrected-monthly",
   "metadata": {},
   "outputs": [],
   "source": [
    "fig"
   ]
  },
  {
   "cell_type": "code",
   "execution_count": null,
   "id": "supreme-execution",
   "metadata": {},
   "outputs": [],
   "source": [
    "# The scene camera_eye\n",
    "eye = fig.layout.scene.camera.eye\n",
    "print(eye.x, eye.y, eye.z)"
   ]
  },
  {
   "cell_type": "code",
   "execution_count": null,
   "id": "restricted-spelling",
   "metadata": {},
   "outputs": [],
   "source": [
    "# The scene camera_center\n",
    "center = fig.layout.scene.camera.center\n",
    "print(center.x, center.y, center.z)"
   ]
  },
  {
   "cell_type": "code",
   "execution_count": null,
   "id": "yellow-appendix",
   "metadata": {},
   "outputs": [],
   "source": [
    "# Save original run \n",
    "run.save_svg(99,'gmm',(\"../results/static/custom/\"+a), camera_eye=dict(x=eye.x,y=eye.y,z=eye.z), camera_center=dict(x=center.x,y=center.y,z=center.z))"
   ]
  },
  {
   "cell_type": "code",
   "execution_count": null,
   "id": "english-missile",
   "metadata": {},
   "outputs": [],
   "source": [
    "# Runs to be exported in custom view\n",
    "a = \"item_based_2BCC_0_0_30_100\"\n",
    "\n",
    "latents = getLatents(a)\n",
    "results = getResults(a)\n",
    "UI = getUI(a)\n",
    "run = post_process(latents, results, UI);\n",
    "run.rename_cluster(1,99);\n",
    "run.save_svg(99,'gmm', loc=(\"../results/static/\"+a), camera_eye=dict(x=eye.x,y=eye.y,z=eye.z), camera_center=dict(x=center.x,y=center.y,z=center.z))"
   ]
  },
  {
   "cell_type": "code",
   "execution_count": null,
   "id": "legitimate-movie",
   "metadata": {},
   "outputs": [],
   "source": []
  }
 ],
 "metadata": {
  "kernelspec": {
   "display_name": "Python 3",
   "language": "python",
   "name": "python3"
  },
  "language_info": {
   "codemirror_mode": {
    "name": "ipython",
    "version": 3
   },
   "file_extension": ".py",
   "mimetype": "text/x-python",
   "name": "python",
   "nbconvert_exporter": "python",
   "pygments_lexer": "ipython3",
   "version": "3.8.2"
  }
 },
 "nbformat": 4,
 "nbformat_minor": 5
}
